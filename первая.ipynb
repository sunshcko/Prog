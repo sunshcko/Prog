{
 "cells": [
  {
   "cell_type": "code",
   "execution_count": 1,
   "id": "188ca60e",
   "metadata": {},
   "outputs": [],
   "source": [
    "import random"
   ]
  },
  {
   "cell_type": "code",
   "execution_count": 8,
   "id": "77bb1db0",
   "metadata": {},
   "outputs": [
    {
     "name": "stdout",
     "output_type": "stream",
     "text": [
      "Введите x =7\n",
      "Введите y =7\n",
      "[-1, 1, 1, -1, 1, 1, 1, -1]\n",
      "[1, -1, -1, 1, 1, 1, -1, 1]\n",
      "[-1, 1, -1, 1, -1, 1, 1, -1]\n",
      "[1, 1, -1, -1, 1, -1, 1, 1]\n",
      "[1, 1, 1, -1, -1, 1, -1, 1]\n",
      "[-1, 1, 1, 1, 1, 1, 1, -1]\n",
      "[-1, 1, -1, -1, -1, 1, 1, -1]\n",
      "[-1, 1, 1, -1, 1, 1, 1, -1]\n",
      "-10\n"
     ]
    }
   ],
   "source": [
    "def f(x):\n",
    "    k = []\n",
    "    for i in range(x):\n",
    "        k.append(random.choice([1, -1]))\n",
    "    k.append(0)\n",
    "    return k\n",
    "\n",
    "x = input('Введите x =')\n",
    "y = input('Введите y =')\n",
    "x = int(x)\n",
    "y = int(y)\n",
    "\n",
    "k1 = []\n",
    "k = 0\n",
    "\n",
    "for j in range(x):\n",
    "    k1.append(f(x))\n",
    "k1.append([0] * (y + 1))\n",
    "\n",
    "for j in range(x + 1):\n",
    "    k1[j][y]  = k1[j][0]\n",
    "for m in range(y + 1):\n",
    "    k1[x][m] = k1[0][m]\n",
    "for j in range(x + 1):\n",
    "    print(k1[j])\n",
    "for j in range(x):\n",
    "    for m in range(y):\n",
    "        k += k1[j][m] * k1[j + 1][m]\n",
    "        k += k1[j][m] * k1[j][m + 1]\n",
    "print(k)"
   ]
  },
  {
   "cell_type": "code",
   "execution_count": null,
   "id": "88b5294d",
   "metadata": {},
   "outputs": [],
   "source": []
  }
 ],
 "metadata": {
  "kernelspec": {
   "display_name": "Python 3",
   "language": "python",
   "name": "python3"
  },
  "language_info": {
   "codemirror_mode": {
    "name": "ipython",
    "version": 3
   },
   "file_extension": ".py",
   "mimetype": "text/x-python",
   "name": "python",
   "nbconvert_exporter": "python",
   "pygments_lexer": "ipython3",
   "version": "3.8.8"
  }
 },
 "nbformat": 4,
 "nbformat_minor": 5
}
